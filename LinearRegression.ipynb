{
  "nbformat": 4,
  "nbformat_minor": 0,
  "metadata": {
    "colab": {
      "name": "LinearRegression.ipynb",
      "provenance": [],
      "collapsed_sections": [],
      "mount_file_id": "13lrgGID-5xW8AJp7OTY__fTWMtjTzp4G",
      "authorship_tag": "ABX9TyObCYligw/gBuK484Q8O4iH",
      "include_colab_link": true
    },
    "kernelspec": {
      "name": "python3",
      "display_name": "Python 3"
    }
  },
  "cells": [
    {
      "cell_type": "markdown",
      "metadata": {
        "id": "view-in-github",
        "colab_type": "text"
      },
      "source": [
        "<a href=\"https://colab.research.google.com/github/Sasso28/Baby-Steps/blob/main/LinearRegression.ipynb\" target=\"_parent\"><img src=\"https://colab.research.google.com/assets/colab-badge.svg\" alt=\"Open In Colab\"/></a>"
      ]
    },
    {
      "cell_type": "code",
      "metadata": {
        "colab": {
          "base_uri": "https://localhost:8080/",
          "height": 300
        },
        "id": "Ecp8lKO9nPxQ",
        "outputId": "2e491eac-9122-4046-d3e7-53e2395e86fa"
      },
      "source": [
        "#Feature scaling = standardization = normalization\r\n",
        "import numpy as np\r\n",
        "import pandas as pd\r\n",
        "import matplotlib.pyplot as plt\r\n",
        "import seaborn as sns\r\n",
        "from sklearn.linear_model import LinearRegression\r\n",
        "from sklearn.preprocessing import StandardScaler\r\n",
        "\r\n",
        "sns.set()\r\n",
        "path = r'/content/drive/MyDrive/1.02. Multiple linear regression - Copy.csv'\r\n",
        "data = pd.read_csv(path)\r\n",
        "data.describe()"
      ],
      "execution_count": 32,
      "outputs": [
        {
          "output_type": "execute_result",
          "data": {
            "text/html": [
              "<div>\n",
              "<style scoped>\n",
              "    .dataframe tbody tr th:only-of-type {\n",
              "        vertical-align: middle;\n",
              "    }\n",
              "\n",
              "    .dataframe tbody tr th {\n",
              "        vertical-align: top;\n",
              "    }\n",
              "\n",
              "    .dataframe thead th {\n",
              "        text-align: right;\n",
              "    }\n",
              "</style>\n",
              "<table border=\"1\" class=\"dataframe\">\n",
              "  <thead>\n",
              "    <tr style=\"text-align: right;\">\n",
              "      <th></th>\n",
              "      <th>SAT</th>\n",
              "      <th>GPA</th>\n",
              "      <th>Rand 1,2,3</th>\n",
              "    </tr>\n",
              "  </thead>\n",
              "  <tbody>\n",
              "    <tr>\n",
              "      <th>count</th>\n",
              "      <td>84.000000</td>\n",
              "      <td>84.000000</td>\n",
              "      <td>84.000000</td>\n",
              "    </tr>\n",
              "    <tr>\n",
              "      <th>mean</th>\n",
              "      <td>1845.273810</td>\n",
              "      <td>3.330238</td>\n",
              "      <td>2.059524</td>\n",
              "    </tr>\n",
              "    <tr>\n",
              "      <th>std</th>\n",
              "      <td>104.530661</td>\n",
              "      <td>0.271617</td>\n",
              "      <td>0.855192</td>\n",
              "    </tr>\n",
              "    <tr>\n",
              "      <th>min</th>\n",
              "      <td>1634.000000</td>\n",
              "      <td>2.400000</td>\n",
              "      <td>1.000000</td>\n",
              "    </tr>\n",
              "    <tr>\n",
              "      <th>25%</th>\n",
              "      <td>1772.000000</td>\n",
              "      <td>3.190000</td>\n",
              "      <td>1.000000</td>\n",
              "    </tr>\n",
              "    <tr>\n",
              "      <th>50%</th>\n",
              "      <td>1846.000000</td>\n",
              "      <td>3.380000</td>\n",
              "      <td>2.000000</td>\n",
              "    </tr>\n",
              "    <tr>\n",
              "      <th>75%</th>\n",
              "      <td>1934.000000</td>\n",
              "      <td>3.502500</td>\n",
              "      <td>3.000000</td>\n",
              "    </tr>\n",
              "    <tr>\n",
              "      <th>max</th>\n",
              "      <td>2050.000000</td>\n",
              "      <td>3.810000</td>\n",
              "      <td>3.000000</td>\n",
              "    </tr>\n",
              "  </tbody>\n",
              "</table>\n",
              "</div>"
            ],
            "text/plain": [
              "               SAT        GPA  Rand 1,2,3\n",
              "count    84.000000  84.000000   84.000000\n",
              "mean   1845.273810   3.330238    2.059524\n",
              "std     104.530661   0.271617    0.855192\n",
              "min    1634.000000   2.400000    1.000000\n",
              "25%    1772.000000   3.190000    1.000000\n",
              "50%    1846.000000   3.380000    2.000000\n",
              "75%    1934.000000   3.502500    3.000000\n",
              "max    2050.000000   3.810000    3.000000"
            ]
          },
          "metadata": {
            "tags": []
          },
          "execution_count": 32
        }
      ]
    },
    {
      "cell_type": "code",
      "metadata": {
        "colab": {
          "base_uri": "https://localhost:8080/",
          "height": 303
        },
        "id": "HEHVVQljvcYJ",
        "outputId": "93f6d253-fb49-47e9-c7bc-c7710558f4ee"
      },
      "source": [
        "sns.regplot(data=data, x='SAT', y='GPA')"
      ],
      "execution_count": 33,
      "outputs": [
        {
          "output_type": "execute_result",
          "data": {
            "text/plain": [
              "<matplotlib.axes._subplots.AxesSubplot at 0x7f57f4defd68>"
            ]
          },
          "metadata": {
            "tags": []
          },
          "execution_count": 33
        },
        {
          "output_type": "display_data",
          "data": {
            "image/png": "[encoded data removed]",
            "text/plain": [
              "<Figure size 432x288 with 1 Axes>"
            ]
          },
          "metadata": {
            "tags": []
          }
        }
      ]
    },
    {
      "cell_type": "code",
      "metadata": {
        "colab": {
          "base_uri": "https://localhost:8080/"
        },
        "id": "MT8H66YBvcPI",
        "outputId": "40e2c026-dfd8-49e6-dd25-3b4925a0870d"
      },
      "source": [
        "#input/feature/independent variable\r\n",
        "y = data['GPA']\r\n",
        "#output/target/dependent variable\r\n",
        "x = data[['SAT', 'Rand 1,2,3']]\r\n",
        "#no need to reshape the input\r\n",
        "\r\n",
        "scaler = StandardScaler()\r\n",
        "#to have as output mean and standard deviation\r\n",
        "scaler.fit(x)\r\n",
        "#end of the processing of standardization\r\n",
        "x_scaled = scaler.transform(x)\r\n",
        "\r\n",
        "reg = LinearRegression()\r\n",
        "reg.fit(x_scaled,y)\r\n",
        "reg.coef_"
      ],
      "execution_count": 37,
      "outputs": [
        {
          "output_type": "execute_result",
          "data": {
            "text/plain": [
              "array([ 0.17181389, -0.00703007])"
            ]
          },
          "metadata": {
            "tags": []
          },
          "execution_count": 37
        }
      ]
    },
    {
      "cell_type": "code",
      "metadata": {
        "colab": {
          "base_uri": "https://localhost:8080/"
        },
        "id": "dbBdaV57q7Z8",
        "outputId": "fd4ef6b5-391b-4161-e8ef-d7779546f8ad"
      },
      "source": [
        "reg.intercept_"
      ],
      "execution_count": 38,
      "outputs": [
        {
          "output_type": "execute_result",
          "data": {
            "text/plain": [
              "3.330238095238095"
            ]
          },
          "metadata": {
            "tags": []
          },
          "execution_count": 38
        }
      ]
    },
    {
      "cell_type": "code",
      "metadata": {
        "colab": {
          "base_uri": "https://localhost:8080/"
        },
        "id": "SKy3Q-9vv3Gb",
        "outputId": "738dc037-96a7-441d-f9a8-9980a100656b"
      },
      "source": [
        "reg_summary = pd.DataFrame([['Intercept'],['SAT'],['Rand 1,2,3']], columns = ['Features'])\r\n",
        "reg_summary['Weights'] = reg.intercept_, reg.coef_[0], reg.coef_[1]\r\n",
        "#intercept ~ bias; features ~ weights\r\n",
        "print(reg_summary)\r\n",
        "#the closer to 0, the less the function is impacted by that specific metric; good practice, take off the feature with the smallest weight\r\n",
        "#problem when adding values; they need to go accordingly to the standardize ones, having same mean and std_var"
      ],
      "execution_count": 39,
      "outputs": [
        {
          "output_type": "stream",
          "text": [
            "     Features   Weights\n",
            "0   Intercept  3.330238\n",
            "1         SAT  0.171814\n",
            "2  Rand 1,2,3 -0.007030\n"
          ],
          "name": "stdout"
        }
      ]
    },
    {
      "cell_type": "code",
      "metadata": {
        "id": "o8S01tdUv51j"
      },
      "source": [
        ""
      ],
      "execution_count": null,
      "outputs": []
    }
  ]
}