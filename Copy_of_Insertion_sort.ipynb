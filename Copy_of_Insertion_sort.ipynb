{
  "nbformat": 4,
  "nbformat_minor": 0,
  "metadata": {
    "colab": {
      "name": "Copy of Insertion_sort.ipynb",
      "provenance": [],
      "authorship_tag": "ABX9TyP4nkiW6E1v8oz9ylbcU2Hy",
      "include_colab_link": true
    },
    "kernelspec": {
      "name": "python3",
      "display_name": "Python 3"
    }
  },
  "cells": [
    {
      "cell_type": "markdown",
      "metadata": {
        "id": "view-in-github",
        "colab_type": "text"
      },
      "source": [
        "<a href=\"https://colab.research.google.com/github/Sasso28/Baby-Steps/blob/main/Copy_of_Insertion_sort.ipynb\" target=\"_parent\"><img src=\"https://colab.research.google.com/assets/colab-badge.svg\" alt=\"Open In Colab\"/></a>"
      ]
    },
    {
      "cell_type": "code",
      "metadata": {
        "colab": {
          "base_uri": "https://localhost:8080/"
        },
        "id": "dxTm4daVwT-f",
        "outputId": "18d0f9f4-ca41-4c15-a676-0a8b7671ca37"
      },
      "source": [
        "def insertion_sort(my_list):\r\n",
        "    n = len(my_list)\r\n",
        "    for i in range(1,n):\r\n",
        "        value = my_list[i]\r\n",
        "        j = i\r\n",
        "        #while loop starts only if the succeding number is smaller than the previous one\r\n",
        "        while j > 0 and my_list[j-1] > value:\r\n",
        "            my_list[j] = my_list[j-1]\r\n",
        "            j = j-1\r\n",
        "        #update the value of the list where j is\r\n",
        "        my_list[j] = value\r\n",
        "    return my_list\r\n",
        "\r\n",
        "test = [6,5,8,65,84,62,35]\r\n",
        "my_insertion = insertion_sort(test)\r\n",
        "print(my_insertion)"
      ],
      "execution_count": null,
      "outputs": [
        {
          "output_type": "stream",
          "text": [
            "[5, 6, 8, 35, 62, 65, 84]\n"
          ],
          "name": "stdout"
        }
      ]
    }
  ]
}