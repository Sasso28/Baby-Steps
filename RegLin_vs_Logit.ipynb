{
  "nbformat": 4,
  "nbformat_minor": 0,
  "metadata": {
    "colab": {
      "name": "RegLin_vs_Logit.ipynb",
      "provenance": [],
      "mount_file_id": "1TaXV-93oUYjH5A-uiEZqJJktaobwlx4H",
      "authorship_tag": "ABX9TyMCS9kagOQjmkQxL3Kg3SoC",
      "include_colab_link": true
    },
    "kernelspec": {
      "name": "python3",
      "display_name": "Python 3"
    }
  },
  "cells": [
    {
      "cell_type": "markdown",
      "metadata": {
        "id": "view-in-github",
        "colab_type": "text"
      },
      "source": [
        "<a href=\"https://colab.research.google.com/github/Sasso28/Baby-Steps/blob/main/RegLin_vs_Logit.ipynb\" target=\"_parent\"><img src=\"https://colab.research.google.com/assets/colab-badge.svg\" alt=\"Open In Colab\"/></a>"
      ]
    },
    {
      "cell_type": "code",
      "metadata": {
        "colab": {
          "base_uri": "https://localhost:8080/",
          "height": 412
        },
        "id": "UOATVk3O2jEk",
        "outputId": "62857199-2425-4aa0-d408-d92429b68abd"
      },
      "source": [
        "\r\n",
        "import pandas as pd\r\n",
        "import numpy as np\r\n",
        "import seaborn as sns\r\n",
        "import statsmodels.api as sm\r\n",
        "import matplotlib.pyplot as plt\r\n",
        "from scipy import stats\r\n",
        "\r\n",
        "#particular line in order to fix the problems of scipy, otherwise there will be no summary for the logistic regression\r\n",
        "stats.chisqprob = lambda chisq, df : stats.chi2.sf(chisq,df)\r\n",
        "sns.set()\r\n",
        "\r\n",
        "raw_data = pd.read_csv(r'/content/drive/MyDrive/2.01. Admittance.csv')\r\n",
        "\r\n",
        "raw_data[\"Admitted\"] = raw_data[\"Admitted\"].map({\"Yes\" : 1, \"No\" : 0})\r\n",
        "print(raw_data.head())\r\n",
        "\r\n",
        "x1 = raw_data[\"SAT\"]\r\n",
        "y = raw_data[\"Admitted\"]\r\n",
        "\r\n",
        "plt.scatter(x1, y, color = 'orange')\r\n",
        "plt.xlabel(\"SAT\")\r\n",
        "plt.xlabel(\"Admitted\")\r\n",
        "#plt.show()\r\n",
        "\r\n",
        "x = sm.add_constant(x1)\r\n",
        "reg_lin = sm.OLS(y, x)\r\n",
        "results_lin = reg_lin.fit()\r\n",
        "\r\n",
        "plt.scatter(x1, y, color = 'orange')\r\n",
        "y_hat = x1*results_lin.params[1] + results_lin.params[0]\r\n",
        "\r\n",
        "plt.plot(x1, y_hat, lw=2.5)\r\n",
        "plt.xlabel(\"SAT\")\r\n",
        "plt.xlabel(\"Admitted\")\r\n",
        "#plt.show()"
      ],
      "execution_count": 2,
      "outputs": [
        {
          "output_type": "stream",
          "text": [
            "    SAT  Admitted\n",
            "0  1363         0\n",
            "1  1792         1\n",
            "2  1954         1\n",
            "3  1653         0\n",
            "4  1593         0\n"
          ],
          "name": "stdout"
        },
        {
          "output_type": "execute_result",
          "data": {
            "text/plain": [
              "Text(0.5, 0, 'Admitted')"
            ]
          },
          "metadata": {
            "tags": []
          },
          "execution_count": 2
        },
        {
          "output_type": "display_data",
          "data": {
            "image/png": "[encoded data removed]",
            "text/plain": [
              "<Figure size 432x288 with 1 Axes>"
            ]
          },
          "metadata": {
            "tags": []
          }
        }
      ]
    },
    {
      "cell_type": "code",
      "metadata": {
        "colab": {
          "base_uri": "https://localhost:8080/",
          "height": 661
        },
        "id": "0lPP9mbU2uCS",
        "outputId": "6652ba1d-6615-4b7b-971e-cc53013466cd"
      },
      "source": [
        "\r\n",
        "\r\n",
        "reg_log = sm.Logit(y,x)\r\n",
        "results_log = reg_log.fit()\r\n",
        "\r\n",
        "def f(x, b0, b1):\r\n",
        "   return np.array(np.exp(b0+b1*x) / (1+ np.exp(b0+b1*x)))\r\n",
        "\r\n",
        "f_sorted = np.sort(f(x1, results_log.params[0], results_log.params[1]))\r\n",
        "x_sorted = np.sort(np.array(x1))\r\n",
        "\r\n",
        "plt.scatter(x1,y)\r\n",
        "plt.xlabel(\"SAT\")\r\n",
        "plt.xlabel(\"Admitted\")\r\n",
        "plt.plot(x_sorted, f_sorted)\r\n",
        "#plt.show()\r\n",
        "\r\n",
        "results_log.summary()"
      ],
      "execution_count": 3,
      "outputs": [
        {
          "output_type": "stream",
          "text": [
            "Optimization terminated successfully.\n",
            "         Current function value: 0.137766\n",
            "         Iterations 10\n"
          ],
          "name": "stdout"
        },
        {
          "output_type": "execute_result",
          "data": {
            "text/html": [
              "<table class=\"simpletable\">\n",
              "<caption>Logit Regression Results</caption>\n",
              "<tr>\n",
              "  <th>Dep. Variable:</th>       <td>Admitted</td>     <th>  No. Observations:  </th>  <td>   168</td>  \n",
              "</tr>\n",
              "<tr>\n",
              "  <th>Model:</th>                 <td>Logit</td>      <th>  Df Residuals:      </th>  <td>   166</td>  \n",
              "</tr>\n",
              "<tr>\n",
              "  <th>Method:</th>                 <td>MLE</td>       <th>  Df Model:          </th>  <td>     1</td>  \n",
              "</tr>\n",
              "<tr>\n",
              "  <th>Date:</th>            <td>Tue, 12 Jan 2021</td> <th>  Pseudo R-squ.:     </th>  <td>0.7992</td>  \n",
              "</tr>\n",
              "<tr>\n",
              "  <th>Time:</th>                <td>13:48:47</td>     <th>  Log-Likelihood:    </th> <td> -23.145</td> \n",
              "</tr>\n",
              "<tr>\n",
              "  <th>converged:</th>             <td>True</td>       <th>  LL-Null:           </th> <td> -115.26</td> \n",
              "</tr>\n",
              "<tr>\n",
              "  <th>Covariance Type:</th>     <td>nonrobust</td>    <th>  LLR p-value:       </th> <td>5.805e-42</td>\n",
              "</tr>\n",
              "</table>\n",
              "<table class=\"simpletable\">\n",
              "<tr>\n",
              "    <td></td>       <th>coef</th>     <th>std err</th>      <th>z</th>      <th>P>|z|</th>  <th>[0.025</th>    <th>0.975]</th>  \n",
              "</tr>\n",
              "<tr>\n",
              "  <th>const</th> <td>  -69.9128</td> <td>   15.737</td> <td>   -4.443</td> <td> 0.000</td> <td> -100.756</td> <td>  -39.070</td>\n",
              "</tr>\n",
              "<tr>\n",
              "  <th>SAT</th>   <td>    0.0420</td> <td>    0.009</td> <td>    4.454</td> <td> 0.000</td> <td>    0.024</td> <td>    0.060</td>\n",
              "</tr>\n",
              "</table><br/><br/>Possibly complete quasi-separation: A fraction 0.27 of observations can be<br/>perfectly predicted. This might indicate that there is complete<br/>quasi-separation. In this case some parameters will not be identified."
            ],
            "text/plain": [
              "<class 'statsmodels.iolib.summary.Summary'>\n",
              "\"\"\"\n",
              "                           Logit Regression Results                           \n",
              "==============================================================================\n",
              "Dep. Variable:               Admitted   No. Observations:                  168\n",
              "Model:                          Logit   Df Residuals:                      166\n",
              "Method:                           MLE   Df Model:                            1\n",
              "Date:                Tue, 12 Jan 2021   Pseudo R-squ.:                  0.7992\n",
              "Time:                        13:48:47   Log-Likelihood:                -23.145\n",
              "converged:                       True   LL-Null:                       -115.26\n",
              "Covariance Type:            nonrobust   LLR p-value:                 5.805e-42\n",
              "==============================================================================\n",
              "                 coef    std err          z      P>|z|      [0.025      0.975]\n",
              "------------------------------------------------------------------------------\n",
              "const        -69.9128     15.737     -4.443      0.000    -100.756     -39.070\n",
              "SAT            0.0420      0.009      4.454      0.000       0.024       0.060\n",
              "==============================================================================\n",
              "\n",
              "Possibly complete quasi-separation: A fraction 0.27 of observations can be\n",
              "perfectly predicted. This might indicate that there is complete\n",
              "quasi-separation. In this case some parameters will not be identified.\n",
              "\"\"\""
            ]
          },
          "metadata": {
            "tags": []
          },
          "execution_count": 3
        },
        {
          "output_type": "display_data",
          "data": {
            "image/png": "[encoded data removed]",
            "text/plain": [
              "<Figure size 432x288 with 1 Axes>"
            ]
          },
          "metadata": {
            "tags": []
          }
        }
      ]
    },
    {
      "cell_type": "code",
      "metadata": {
        "id": "jDxtYj-q2yoo"
      },
      "source": [
        ""
      ],
      "execution_count": null,
      "outputs": []
    }
  ]
}