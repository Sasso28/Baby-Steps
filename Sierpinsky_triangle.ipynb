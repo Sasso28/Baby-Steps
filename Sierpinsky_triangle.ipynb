{
  "nbformat": 4,
  "nbformat_minor": 0,
  "metadata": {
    "colab": {
      "name": "Sierpinsky_triangle.ipynb",
      "provenance": [],
      "authorship_tag": "ABX9TyPr/dXDC9c0HceEg0yQ+yod",
      "include_colab_link": true
    },
    "kernelspec": {
      "name": "python3",
      "display_name": "Python 3"
    }
  },
  "cells": [
    {
      "cell_type": "markdown",
      "metadata": {
        "id": "view-in-github",
        "colab_type": "text"
      },
      "source": [
        "<a href=\"https://colab.research.google.com/github/Sasso28/Baby-Steps/blob/main/Sierpinsky_triangle.ipynb\" target=\"_parent\"><img src=\"https://colab.research.google.com/assets/colab-badge.svg\" alt=\"Open In Colab\"/></a>"
      ]
    },
    {
      "cell_type": "code",
      "metadata": {
        "colab": {
          "base_uri": "https://localhost:8080/",
          "height": 283
        },
        "id": "NDEKNo6zoaKJ",
        "outputId": "b3736b12-747f-4e2b-8389-167056d9827c"
      },
      "source": [
        "from random import choice\r\n",
        "import matplotlib.pyplot as plt\r\n",
        "\r\n",
        "# define each transformation, in order to retrieve an update x,y at the end of its execution\r\n",
        "def trans_1(p):\r\n",
        "    x= p[0]\r\n",
        "    y= p[1]\r\n",
        "    x1 = 0.5*x\r\n",
        "    y1 = 0.5*y\r\n",
        "    return x1, y1\r\n",
        "\r\n",
        "def trans_2(p):\r\n",
        "    x= p[0]\r\n",
        "    y= p[1]\r\n",
        "    x1 = 0.5*x + 0.5\r\n",
        "    y1 = 0.5*y + 0.5\r\n",
        "    return x1, y1\r\n",
        "\r\n",
        "def trans_3(p):\r\n",
        "    x= p[0]\r\n",
        "    y= p[1]\r\n",
        "    x1 = 0.5*x + 1\r\n",
        "    y1 = 0.5*y\r\n",
        "    return x1, y1\r\n",
        "#list of transformation\r\n",
        "transformation = [trans_1, trans_2, trans_3]\r\n",
        "#varaibles to keep traking the points\r\n",
        "a1 = [0]\r\n",
        "b1 = [0]\r\n",
        "a,b = 0,0\r\n",
        "\r\n",
        "for i in range(1000000):\r\n",
        "    #take one of the three transformation as a random choice\r\n",
        "    trans = choice(transformation)\r\n",
        "    #apply the transformation to create new points\r\n",
        "    a,b = trans((a,b))\r\n",
        "    #append the new points to the list of their coordinates\r\n",
        "    a1.append(a)\r\n",
        "    b1.append(b)\r\n",
        "    \r\n",
        "\r\n",
        "plt.plot(a1,b1, 'o')\r\n",
        "#plt.savefig('my_Sierpinski_triangle.png')\r\n"
      ],
      "execution_count": 2,
      "outputs": [
        {
          "output_type": "execute_result",
          "data": {
            "text/plain": [
              "[<matplotlib.lines.Line2D at 0x7f9793f55780>]"
            ]
          },
          "metadata": {
            "tags": []
          },
          "execution_count": 2
        },
        {
          "output_type": "display_data",
          "data": {
            "image/png": "[encoded data removed]",
            "text/plain": [
              "<Figure size 432x288 with 1 Axes>"
            ]
          },
          "metadata": {
            "tags": [],
            "needs_background": "light"
          }
        }
      ]
    },
    {
      "cell_type": "code",
      "metadata": {
        "id": "gfStmie3wR0d"
      },
      "source": [
        ""
      ],
      "execution_count": null,
      "outputs": []
    }
  ]
}